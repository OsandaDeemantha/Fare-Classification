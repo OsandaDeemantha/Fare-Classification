{
  "nbformat": 4,
  "nbformat_minor": 0,
  "metadata": {
    "colab": {
      "name": "Machine Learning Project.ipynb",
      "provenance": [],
      "authorship_tag": "ABX9TyMYtbodbY+Rvv0Jeus3u7Ap",
      "include_colab_link": true
    },
    "kernelspec": {
      "name": "python3",
      "display_name": "Python 3"
    }
  },
  "cells": [
    {
      "cell_type": "markdown",
      "metadata": {
        "id": "view-in-github",
        "colab_type": "text"
      },
      "source": [
        "<a href=\"https://colab.research.google.com/github/OsandaDeemantha/Fare-Classification/blob/master/Machine_Learning_Project-2-RF.ipynb\" target=\"_parent\"><img src=\"https://colab.research.google.com/assets/colab-badge.svg\" alt=\"Open In Colab\"/></a>"
      ]
    },
    {
      "cell_type": "markdown",
      "metadata": {
        "id": "AERv1M0io4kv",
        "colab_type": "text"
      },
      "source": [
        "# **Import Libraries**"
      ]
    },
    {
      "cell_type": "code",
      "metadata": {
        "id": "pLQWs4-rfIGs",
        "colab_type": "code",
        "colab": {
          "base_uri": "https://localhost:8080/",
          "height": 0
        },
        "outputId": "60c1662c-be6b-412d-9673-2d13b367c5f2"
      },
      "source": [
        "import itertools\n",
        "import numpy as np\n",
        "import matplotlib.pyplot as plt\n",
        "from matplotlib.ticker import NullFormatter\n",
        "import pandas as pd\n",
        "import numpy as np\n",
        "import seaborn as sns\n",
        "import matplotlib.ticker as ticker\n",
        "from sklearn import preprocessing\n",
        "%matplotlib inline\n",
        "import warnings\n",
        "warnings.filterwarnings(\"ignore\", category=DeprecationWarning)\n",
        "warnings.simplefilter(action='ignore', category=FutureWarning)"
      ],
      "execution_count": 1,
      "outputs": [
        {
          "output_type": "stream",
          "text": [
            "/usr/local/lib/python3.6/dist-packages/statsmodels/tools/_testing.py:19: FutureWarning: pandas.util.testing is deprecated. Use the functions in the public API at pandas.testing instead.\n",
            "  import pandas.util.testing as tm\n"
          ],
          "name": "stderr"
        }
      ]
    },
    {
      "cell_type": "markdown",
      "metadata": {
        "id": "r2X-Mm8MphDu",
        "colab_type": "text"
      },
      "source": [
        "# **Load Data**"
      ]
    },
    {
      "cell_type": "code",
      "metadata": {
        "id": "uUOLUUWMcR57",
        "colab_type": "code",
        "outputId": "63280d0d-7d87-4341-9e03-99d7768ab730",
        "colab": {
          "base_uri": "https://localhost:8080/",
          "height": 326
        }
      },
      "source": [
        "from google.colab import drive\n",
        "drive.mount('/content/drive')\n",
        "\n",
        "df = pd.read_csv('/content/drive/My Drive/Colab Notebooks/Fare-Classification/Data/train.csv')\n",
        "df['label'].replace(to_replace=['correct','incorrect'], value=[1,0],inplace=True)\n",
        "df.head()"
      ],
      "execution_count": 2,
      "outputs": [
        {
          "output_type": "stream",
          "text": [
            "Drive already mounted at /content/drive; to attempt to forcibly remount, call drive.mount(\"/content/drive\", force_remount=True).\n"
          ],
          "name": "stdout"
        },
        {
          "output_type": "execute_result",
          "data": {
            "text/html": [
              "<div>\n",
              "<style scoped>\n",
              "    .dataframe tbody tr th:only-of-type {\n",
              "        vertical-align: middle;\n",
              "    }\n",
              "\n",
              "    .dataframe tbody tr th {\n",
              "        vertical-align: top;\n",
              "    }\n",
              "\n",
              "    .dataframe thead th {\n",
              "        text-align: right;\n",
              "    }\n",
              "</style>\n",
              "<table border=\"1\" class=\"dataframe\">\n",
              "  <thead>\n",
              "    <tr style=\"text-align: right;\">\n",
              "      <th></th>\n",
              "      <th>tripid</th>\n",
              "      <th>additional_fare</th>\n",
              "      <th>duration</th>\n",
              "      <th>meter_waiting</th>\n",
              "      <th>meter_waiting_fare</th>\n",
              "      <th>meter_waiting_till_pickup</th>\n",
              "      <th>pickup_time</th>\n",
              "      <th>drop_time</th>\n",
              "      <th>pick_lat</th>\n",
              "      <th>pick_lon</th>\n",
              "      <th>drop_lat</th>\n",
              "      <th>drop_lon</th>\n",
              "      <th>fare</th>\n",
              "      <th>label</th>\n",
              "    </tr>\n",
              "  </thead>\n",
              "  <tbody>\n",
              "    <tr>\n",
              "      <th>0</th>\n",
              "      <td>189123628</td>\n",
              "      <td>10.5</td>\n",
              "      <td>834.0</td>\n",
              "      <td>56.0</td>\n",
              "      <td>0.0000</td>\n",
              "      <td>64.0</td>\n",
              "      <td>11/1/2019 0:20</td>\n",
              "      <td>11/1/2019 0:34</td>\n",
              "      <td>6.86252</td>\n",
              "      <td>79.8993</td>\n",
              "      <td>6.90330</td>\n",
              "      <td>79.8783</td>\n",
              "      <td>270.32</td>\n",
              "      <td>1</td>\n",
              "    </tr>\n",
              "    <tr>\n",
              "      <th>1</th>\n",
              "      <td>189125358</td>\n",
              "      <td>10.5</td>\n",
              "      <td>791.0</td>\n",
              "      <td>47.0</td>\n",
              "      <td>0.0000</td>\n",
              "      <td>134.0</td>\n",
              "      <td>11/1/2019 0:56</td>\n",
              "      <td>11/1/2019 1:09</td>\n",
              "      <td>6.88589</td>\n",
              "      <td>79.8984</td>\n",
              "      <td>6.91373</td>\n",
              "      <td>79.8923</td>\n",
              "      <td>197.85</td>\n",
              "      <td>1</td>\n",
              "    </tr>\n",
              "    <tr>\n",
              "      <th>2</th>\n",
              "      <td>189125719</td>\n",
              "      <td>10.5</td>\n",
              "      <td>1087.0</td>\n",
              "      <td>80.0</td>\n",
              "      <td>0.0000</td>\n",
              "      <td>61.0</td>\n",
              "      <td>11/1/2019 1:08</td>\n",
              "      <td>11/1/2019 1:26</td>\n",
              "      <td>6.90839</td>\n",
              "      <td>79.8651</td>\n",
              "      <td>6.93669</td>\n",
              "      <td>79.9146</td>\n",
              "      <td>301.64</td>\n",
              "      <td>1</td>\n",
              "    </tr>\n",
              "    <tr>\n",
              "      <th>3</th>\n",
              "      <td>189127273</td>\n",
              "      <td>10.5</td>\n",
              "      <td>598.0</td>\n",
              "      <td>271.0</td>\n",
              "      <td>15.6638</td>\n",
              "      <td>68.0</td>\n",
              "      <td>11/1/2019 2:27</td>\n",
              "      <td>11/1/2019 2:37</td>\n",
              "      <td>6.92570</td>\n",
              "      <td>79.8895</td>\n",
              "      <td>6.92748</td>\n",
              "      <td>79.8971</td>\n",
              "      <td>82.30</td>\n",
              "      <td>1</td>\n",
              "    </tr>\n",
              "    <tr>\n",
              "      <th>4</th>\n",
              "      <td>189128020</td>\n",
              "      <td>NaN</td>\n",
              "      <td>NaN</td>\n",
              "      <td>NaN</td>\n",
              "      <td>NaN</td>\n",
              "      <td>NaN</td>\n",
              "      <td>11/1/2019 3:34</td>\n",
              "      <td>11/1/2019 3:51</td>\n",
              "      <td>6.87441</td>\n",
              "      <td>79.8615</td>\n",
              "      <td>6.84478</td>\n",
              "      <td>79.9290</td>\n",
              "      <td>358.39</td>\n",
              "      <td>1</td>\n",
              "    </tr>\n",
              "  </tbody>\n",
              "</table>\n",
              "</div>"
            ],
            "text/plain": [
              "      tripid  additional_fare  duration  ...  drop_lon    fare  label\n",
              "0  189123628             10.5     834.0  ...   79.8783  270.32      1\n",
              "1  189125358             10.5     791.0  ...   79.8923  197.85      1\n",
              "2  189125719             10.5    1087.0  ...   79.9146  301.64      1\n",
              "3  189127273             10.5     598.0  ...   79.8971   82.30      1\n",
              "4  189128020              NaN       NaN  ...   79.9290  358.39      1\n",
              "\n",
              "[5 rows x 14 columns]"
            ]
          },
          "metadata": {
            "tags": []
          },
          "execution_count": 2
        }
      ]
    },
    {
      "cell_type": "markdown",
      "metadata": {
        "id": "b8bMkfK2qnRH",
        "colab_type": "text"
      },
      "source": [
        "# **Plot Heat Map**"
      ]
    },
    {
      "cell_type": "code",
      "metadata": {
        "id": "VZlRXCoUqGN5",
        "colab_type": "code",
        "colab": {
          "base_uri": "https://localhost:8080/",
          "height": 712
        },
        "outputId": "97943eee-7639-41ad-b7fd-f15a207dacf0"
      },
      "source": [
        "corrmat = df.corr()\n",
        "top_corr_features = corrmat.index\n",
        "plt.figure(figsize=(10,10))\n",
        "#plot heat map\n",
        "g=sns.heatmap(df[top_corr_features].corr(),annot=True,cmap=\"RdYlGn\")"
      ],
      "execution_count": 3,
      "outputs": [
        {
          "output_type": "display_data",
          "data": {
            "image/png": "[encoded data removed]",
            "text/plain": [
              "<Figure size 720x720 with 2 Axes>"
            ]
          },
          "metadata": {
            "tags": [],
            "needs_background": "light"
          }
        }
      ]
    },
    {
      "cell_type": "markdown",
      "metadata": {
        "id": "xpRJnE0Ex6kS",
        "colab_type": "text"
      },
      "source": [
        "# **Functions**"
      ]
    },
    {
      "cell_type": "code",
      "metadata": {
        "id": "jiZlAWALbQE0",
        "colab_type": "code",
        "colab": {}
      },
      "source": [
        "def calc_prevalence(y):\n",
        " return (sum(y)/len(y))"
      ],
      "execution_count": 0,
      "outputs": []
    },
    {
      "cell_type": "markdown",
      "metadata": {
        "id": "XGUd-bLqyJaO",
        "colab_type": "text"
      },
      "source": [
        "**Split Date Time**"
      ]
    },
    {
      "cell_type": "code",
      "metadata": {
        "id": "NSxiWINMks1n",
        "colab_type": "code",
        "colab": {}
      },
      "source": [
        "import datetime\n",
        "from datetime import timedelta\n",
        "\n",
        "def extractDataFromDateTimeObj(time):\n",
        "  datetimeFormat = '%m/%d/%Y %H:%M'\n",
        "  dateTimeObj = datetime.datetime.strptime(time, datetimeFormat)\n",
        "  return [dateTimeObj.year, dateTimeObj.month, dateTimeObj.day, dateTimeObj.hour, dateTimeObj.minute, dateTimeObj.weekday(), dateTimeObj.weekday()]"
      ],
      "execution_count": 0,
      "outputs": []
    },
    {
      "cell_type": "code",
      "metadata": {
        "id": "WIlPE5aMk0w_",
        "colab_type": "code",
        "colab": {}
      },
      "source": [
        "def generateDropTimeData(df):\n",
        "  df_drop_year = []\n",
        "  df_drop_month = []\n",
        "  df_drop_day = []\n",
        "  df_drop_hour = []\n",
        "  df_drop_minute = []\n",
        "  df_drop_weekday = []\n",
        "  df_drop_weekofyear = []\n",
        "\n",
        "  for time in df['drop_time']:\n",
        "    data = extractDataFromDateTimeObj(time)\n",
        "    df_drop_year.append(data[0])\n",
        "    df_drop_month.append(data[1])\n",
        "    df_drop_day.append(data[2])\n",
        "    df_drop_hour.append(data[3])\n",
        "    df_drop_minute.append(data[4])\n",
        "    df_drop_weekday.append(data[5])\n",
        "    df_drop_weekofyear.append(data[6])\n",
        "\n",
        "  df['drop_year'] = df_drop_year\n",
        "  df['drop_month'] = df_drop_month\n",
        "  df['drop_day'] = df_drop_day\n",
        "  df['drop_hour'] = df_drop_hour\n",
        "  df['drop_minute'] = df_drop_minute\n",
        "  df['drop_weekday'] = df_drop_weekday\n",
        "  df['drop_weekofyear'] = df_drop_weekofyear"
      ],
      "execution_count": 0,
      "outputs": []
    },
    {
      "cell_type": "code",
      "metadata": {
        "id": "UvOilL6Vk5Rt",
        "colab_type": "code",
        "colab": {}
      },
      "source": [
        "def generatePickupTimeData(df):\n",
        "  df_pickup_year = []\n",
        "  df_pickup_month = []\n",
        "  df_pickup_day = []\n",
        "  df_pickup_hour = []\n",
        "  df_pickup_minute = []\n",
        "  df_pickup_weekday = []\n",
        "  df_pickup_weekofyear = []\n",
        "\n",
        "  for time in df['pickup_time']:\n",
        "    data = extractDataFromDateTimeObj(time)\n",
        "    df_pickup_year.append(data[0])\n",
        "    df_pickup_month.append(data[1])\n",
        "    df_pickup_day.append(data[2])\n",
        "    df_pickup_hour.append(data[3])\n",
        "    df_pickup_minute.append(data[4])\n",
        "    df_pickup_weekday.append(data[5])\n",
        "    df_pickup_weekofyear.append(data[6])\n",
        "\n",
        "  df['pickup_year'] = df_pickup_year\n",
        "  df['pickup_month'] = df_pickup_month\n",
        "  df['pickup_day'] = df_pickup_day\n",
        "  df['pickup_hour'] = df_pickup_hour\n",
        "  df['pickup_minute'] = df_pickup_minute\n",
        "  df['pickup_weekday'] = df_pickup_weekday\n",
        "  df['pickup_weekofyear'] = df_pickup_weekofyear"
      ],
      "execution_count": 0,
      "outputs": []
    },
    {
      "cell_type": "code",
      "metadata": {
        "id": "DYxERgMcjUIk",
        "colab_type": "code",
        "colab": {}
      },
      "source": [
        "def generatePickupTimestamp(df):\n",
        "  time = pd.to_datetime(df['pickup_time'])\n",
        "  df['pickup_timestamp'] = time.values.astype(np.int64) // 10 ** 9\n",
        "\n",
        "def generateDropTimestamp(df):\n",
        "  time = pd.to_datetime(df['drop_time'])\n",
        "  df['drop_timestamp'] = time.values.astype(np.int64) // 10 ** 9"
      ],
      "execution_count": 0,
      "outputs": []
    },
    {
      "cell_type": "markdown",
      "metadata": {
        "id": "cZRklygEifqe",
        "colab_type": "text"
      },
      "source": [
        "**Calculate Distance**"
      ]
    },
    {
      "cell_type": "code",
      "metadata": {
        "id": "zLUb3CmCidKe",
        "colab_type": "code",
        "colab": {}
      },
      "source": [
        "from geopy.distance import geodesic\n",
        "\n",
        "def calculateDistance(pick_lat,pick_lon, drop_lat, drop_lon):\n",
        "\n",
        "  coords_1 = (pick_lat, pick_lon)\n",
        "  coords_2 = (drop_lat, drop_lon)\n",
        "  #pick_lat = radians(float(pick_lat))\n",
        "  #pick_lon = radians(float(pick_lon))\n",
        "  #drop_lat = radians(float(drop_lat))\n",
        "  #drop_lon = radians(float(drop_lon))\n",
        "\n",
        "  if (pick_lon == drop_lon and pick_lat == drop_lat):\n",
        "    distance = 0.0\n",
        "    return round(distance, 2)\n",
        "  else:\n",
        "    distance = geodesic(coords_1, coords_2).km\n",
        "    return round(distance, 2)\n",
        "\n",
        "def calculateDistanceDf(pick_lat_frame,pick_lon_frame, drop_lat_frame, drop_lon_frame):\n",
        "  distanceList = []\n",
        "  for i in range(len(drop_lon_frame)):\n",
        "    pick_lat = pick_lat_frame[i]\n",
        "    pick_lon = pick_lon_frame[i]\n",
        "    drop_lat = drop_lat_frame[i]\n",
        "    drop_lon = drop_lon_frame[i]\n",
        "\n",
        "    try:\n",
        "      distance = calculateDistance(pick_lat,pick_lon, drop_lat, drop_lon)\n",
        "    except:\n",
        "      print(\"Error occured! , at\", i)\n",
        "\n",
        "    distanceList.append(distance)\n",
        "  return distanceList"
      ],
      "execution_count": 0,
      "outputs": []
    },
    {
      "cell_type": "markdown",
      "metadata": {
        "id": "EaEn4Yka0lxa",
        "colab_type": "text"
      },
      "source": [
        "**Imputation**"
      ]
    },
    {
      "cell_type": "code",
      "metadata": {
        "id": "3g3ZzYCurg6g",
        "colab_type": "code",
        "colab": {}
      },
      "source": [
        "import numpy as np\n",
        "from sklearn.impute import SimpleImputer\n",
        "\n",
        "def naImpute(features, column_names):\n",
        "  imp=SimpleImputer(missing_values=np.NaN)\n",
        "  idf=pd.DataFrame(imp.fit_transform(features))\n",
        "  idf.columns=features.columns\n",
        "  idf.index=features.index\n",
        "\n",
        "  for column_name in column_names:\n",
        "    idf[column_name].isna().sum()\n",
        "\n",
        "  \n",
        "  return idf"
      ],
      "execution_count": 0,
      "outputs": []
    },
    {
      "cell_type": "markdown",
      "metadata": {
        "id": "fm0YHE4CJy56",
        "colab_type": "text"
      },
      "source": [
        "**Split Training/ Test Data**"
      ]
    },
    {
      "cell_type": "code",
      "metadata": {
        "id": "jyPpDz3xsdCX",
        "colab_type": "code",
        "colab": {}
      },
      "source": [
        "# from sklearn.model_selection import train_test_split\n",
        "# X_train, X_test, y_train, y_test = train_test_split(X, y, test_size=0.2, random_state=42)\n",
        "\n",
        "# shuffle the samples\n",
        "# df = df.sample(n = len(df), random_state = 42)\n",
        "# df = df.reset_index(drop = True)\n",
        "# valid_df = df.sample(frac = 0.2, random_state = 42)\n",
        "# train_df = df.drop(valid_df.index)\n",
        "valid_df = df\n",
        "train_df = df"
      ],
      "execution_count": 0,
      "outputs": []
    },
    {
      "cell_type": "code",
      "metadata": {
        "id": "ZR03kJU_ayIg",
        "colab_type": "code",
        "colab": {
          "base_uri": "https://localhost:8080/",
          "height": 51
        },
        "outputId": "278c0c0e-12a8-4836-f11f-892e646e29ba"
      },
      "source": [
        "print('Valid prevalence(n = %d):%.3f'%(len(valid_df),calc_prevalence(valid_df.label.values)))\n",
        "print('Train prevalence(n = %d):%.3f'%(len(train_df), calc_prevalence(train_df.label.values)))"
      ],
      "execution_count": 12,
      "outputs": [
        {
          "output_type": "stream",
          "text": [
            "Valid prevalence(n = 17176):0.902\n",
            "Train prevalence(n = 17176):0.902\n"
          ],
          "name": "stdout"
        }
      ]
    },
    {
      "cell_type": "code",
      "metadata": {
        "id": "xZ3U83W3ZZjm",
        "colab_type": "code",
        "colab": {
          "base_uri": "https://localhost:8080/",
          "height": 309
        },
        "outputId": "3234c752-d72b-4dc6-dc22-69d91a5f8d07"
      },
      "source": [
        "train_y = train_df.label\n",
        "list = ['tripid','label']\n",
        "train_x = train_df.drop(list,axis = 1 )\n",
        "train_x.head()"
      ],
      "execution_count": 13,
      "outputs": [
        {
          "output_type": "execute_result",
          "data": {
            "text/html": [
              "<div>\n",
              "<style scoped>\n",
              "    .dataframe tbody tr th:only-of-type {\n",
              "        vertical-align: middle;\n",
              "    }\n",
              "\n",
              "    .dataframe tbody tr th {\n",
              "        vertical-align: top;\n",
              "    }\n",
              "\n",
              "    .dataframe thead th {\n",
              "        text-align: right;\n",
              "    }\n",
              "</style>\n",
              "<table border=\"1\" class=\"dataframe\">\n",
              "  <thead>\n",
              "    <tr style=\"text-align: right;\">\n",
              "      <th></th>\n",
              "      <th>additional_fare</th>\n",
              "      <th>duration</th>\n",
              "      <th>meter_waiting</th>\n",
              "      <th>meter_waiting_fare</th>\n",
              "      <th>meter_waiting_till_pickup</th>\n",
              "      <th>pickup_time</th>\n",
              "      <th>drop_time</th>\n",
              "      <th>pick_lat</th>\n",
              "      <th>pick_lon</th>\n",
              "      <th>drop_lat</th>\n",
              "      <th>drop_lon</th>\n",
              "      <th>fare</th>\n",
              "    </tr>\n",
              "  </thead>\n",
              "  <tbody>\n",
              "    <tr>\n",
              "      <th>0</th>\n",
              "      <td>10.5</td>\n",
              "      <td>834.0</td>\n",
              "      <td>56.0</td>\n",
              "      <td>0.0000</td>\n",
              "      <td>64.0</td>\n",
              "      <td>11/1/2019 0:20</td>\n",
              "      <td>11/1/2019 0:34</td>\n",
              "      <td>6.86252</td>\n",
              "      <td>79.8993</td>\n",
              "      <td>6.90330</td>\n",
              "      <td>79.8783</td>\n",
              "      <td>270.32</td>\n",
              "    </tr>\n",
              "    <tr>\n",
              "      <th>1</th>\n",
              "      <td>10.5</td>\n",
              "      <td>791.0</td>\n",
              "      <td>47.0</td>\n",
              "      <td>0.0000</td>\n",
              "      <td>134.0</td>\n",
              "      <td>11/1/2019 0:56</td>\n",
              "      <td>11/1/2019 1:09</td>\n",
              "      <td>6.88589</td>\n",
              "      <td>79.8984</td>\n",
              "      <td>6.91373</td>\n",
              "      <td>79.8923</td>\n",
              "      <td>197.85</td>\n",
              "    </tr>\n",
              "    <tr>\n",
              "      <th>2</th>\n",
              "      <td>10.5</td>\n",
              "      <td>1087.0</td>\n",
              "      <td>80.0</td>\n",
              "      <td>0.0000</td>\n",
              "      <td>61.0</td>\n",
              "      <td>11/1/2019 1:08</td>\n",
              "      <td>11/1/2019 1:26</td>\n",
              "      <td>6.90839</td>\n",
              "      <td>79.8651</td>\n",
              "      <td>6.93669</td>\n",
              "      <td>79.9146</td>\n",
              "      <td>301.64</td>\n",
              "    </tr>\n",
              "    <tr>\n",
              "      <th>3</th>\n",
              "      <td>10.5</td>\n",
              "      <td>598.0</td>\n",
              "      <td>271.0</td>\n",
              "      <td>15.6638</td>\n",
              "      <td>68.0</td>\n",
              "      <td>11/1/2019 2:27</td>\n",
              "      <td>11/1/2019 2:37</td>\n",
              "      <td>6.92570</td>\n",
              "      <td>79.8895</td>\n",
              "      <td>6.92748</td>\n",
              "      <td>79.8971</td>\n",
              "      <td>82.30</td>\n",
              "    </tr>\n",
              "    <tr>\n",
              "      <th>4</th>\n",
              "      <td>NaN</td>\n",
              "      <td>NaN</td>\n",
              "      <td>NaN</td>\n",
              "      <td>NaN</td>\n",
              "      <td>NaN</td>\n",
              "      <td>11/1/2019 3:34</td>\n",
              "      <td>11/1/2019 3:51</td>\n",
              "      <td>6.87441</td>\n",
              "      <td>79.8615</td>\n",
              "      <td>6.84478</td>\n",
              "      <td>79.9290</td>\n",
              "      <td>358.39</td>\n",
              "    </tr>\n",
              "  </tbody>\n",
              "</table>\n",
              "</div>"
            ],
            "text/plain": [
              "   additional_fare  duration  meter_waiting  ...  drop_lat  drop_lon    fare\n",
              "0             10.5     834.0           56.0  ...   6.90330   79.8783  270.32\n",
              "1             10.5     791.0           47.0  ...   6.91373   79.8923  197.85\n",
              "2             10.5    1087.0           80.0  ...   6.93669   79.9146  301.64\n",
              "3             10.5     598.0          271.0  ...   6.92748   79.8971   82.30\n",
              "4              NaN       NaN            NaN  ...   6.84478   79.9290  358.39\n",
              "\n",
              "[5 rows x 12 columns]"
            ]
          },
          "metadata": {
            "tags": []
          },
          "execution_count": 13
        }
      ]
    },
    {
      "cell_type": "code",
      "metadata": {
        "id": "mSU0QE8OgGlG",
        "colab_type": "code",
        "colab": {
          "base_uri": "https://localhost:8080/",
          "height": 314
        },
        "outputId": "fb7f2328-0baa-4058-c995-e79e2f2e6141"
      },
      "source": [
        "ax = sns.countplot(train_y,label=\"Count\")\n",
        "C, I = train_y.value_counts()\n",
        "print('Correct: ',C)\n",
        "print('Incorrect : ',I)"
      ],
      "execution_count": 14,
      "outputs": [
        {
          "output_type": "stream",
          "text": [
            "Correct:  15495\n",
            "Incorrect :  1681\n"
          ],
          "name": "stdout"
        },
        {
          "output_type": "display_data",
          "data": {
            "image/png": "[encoded data removed]",
            "text/plain": [
              "<Figure size 432x288 with 1 Axes>"
            ]
          },
          "metadata": {
            "tags": [],
            "needs_background": "light"
          }
        }
      ]
    },
    {
      "cell_type": "code",
      "metadata": {
        "id": "MiDAe0p2gz_F",
        "colab_type": "code",
        "colab": {
          "base_uri": "https://localhost:8080/",
          "height": 317
        },
        "outputId": "8b4a6b7c-457c-4ede-9554-1783034a8a8c"
      },
      "source": [
        "train_x.describe()"
      ],
      "execution_count": 15,
      "outputs": [
        {
          "output_type": "execute_result",
          "data": {
            "text/html": [
              "<div>\n",
              "<style scoped>\n",
              "    .dataframe tbody tr th:only-of-type {\n",
              "        vertical-align: middle;\n",
              "    }\n",
              "\n",
              "    .dataframe tbody tr th {\n",
              "        vertical-align: top;\n",
              "    }\n",
              "\n",
              "    .dataframe thead th {\n",
              "        text-align: right;\n",
              "    }\n",
              "</style>\n",
              "<table border=\"1\" class=\"dataframe\">\n",
              "  <thead>\n",
              "    <tr style=\"text-align: right;\">\n",
              "      <th></th>\n",
              "      <th>additional_fare</th>\n",
              "      <th>duration</th>\n",
              "      <th>meter_waiting</th>\n",
              "      <th>meter_waiting_fare</th>\n",
              "      <th>meter_waiting_till_pickup</th>\n",
              "      <th>pick_lat</th>\n",
              "      <th>pick_lon</th>\n",
              "      <th>drop_lat</th>\n",
              "      <th>drop_lon</th>\n",
              "      <th>fare</th>\n",
              "    </tr>\n",
              "  </thead>\n",
              "  <tbody>\n",
              "    <tr>\n",
              "      <th>count</th>\n",
              "      <td>16974.000000</td>\n",
              "      <td>16974.000000</td>\n",
              "      <td>16974.000000</td>\n",
              "      <td>16974.000000</td>\n",
              "      <td>16974.000000</td>\n",
              "      <td>17176.000000</td>\n",
              "      <td>17176.000000</td>\n",
              "      <td>17176.000000</td>\n",
              "      <td>17176.000000</td>\n",
              "      <td>17039.000000</td>\n",
              "    </tr>\n",
              "    <tr>\n",
              "      <th>mean</th>\n",
              "      <td>13.719651</td>\n",
              "      <td>1702.858077</td>\n",
              "      <td>629.074231</td>\n",
              "      <td>32.057666</td>\n",
              "      <td>112.466832</td>\n",
              "      <td>6.965499</td>\n",
              "      <td>79.998232389</td>\n",
              "      <td>6.968587</td>\n",
              "      <td>79.997534</td>\n",
              "      <td>312.655466</td>\n",
              "    </tr>\n",
              "    <tr>\n",
              "      <th>std</th>\n",
              "      <td>98.975052</td>\n",
              "      <td>8120.160818</td>\n",
              "      <td>8063.260669</td>\n",
              "      <td>465.4835343473</td>\n",
              "      <td>442.054812</td>\n",
              "      <td>0.210760</td>\n",
              "      <td>0.243384</td>\n",
              "      <td>0.378669</td>\n",
              "      <td>0.359648</td>\n",
              "      <td>605.300565</td>\n",
              "    </tr>\n",
              "    <tr>\n",
              "      <th>min</th>\n",
              "      <td>0.000000</td>\n",
              "      <td>0.00043000</td>\n",
              "      <td>0.000000</td>\n",
              "      <td>0.000000</td>\n",
              "      <td>0.000000</td>\n",
              "      <td>5.937600</td>\n",
              "      <td>79.819100</td>\n",
              "      <td>5.941860</td>\n",
              "      <td>45.307700</td>\n",
              "      <td>0.000000</td>\n",
              "    </tr>\n",
              "    <tr>\n",
              "      <th>25%</th>\n",
              "      <td>10.500000</td>\n",
              "      <td>548.000000</td>\n",
              "      <td>33.000000</td>\n",
              "      <td>0.000000</td>\n",
              "      <td>26.000000</td>\n",
              "      <td>6.865077</td>\n",
              "      <td>79.870400</td>\n",
              "      <td>6.865625</td>\n",
              "      <td>79.870100</td>\n",
              "      <td>125.515000</td>\n",
              "    </tr>\n",
              "    <tr>\n",
              "      <th>50%</th>\n",
              "      <td>10.500000</td>\n",
              "      <td>1009.500000</td>\n",
              "      <td>123.000000</td>\n",
              "      <td>0.116600</td>\n",
              "      <td>73.000000</td>\n",
              "      <td>6.914105</td>\n",
              "      <td>79.898600</td>\n",
              "      <td>6.916160</td>\n",
              "      <td>79.899100</td>\n",
              "      <td>211.180000</td>\n",
              "    </tr>\n",
              "    <tr>\n",
              "      <th>75%</th>\n",
              "      <td>10.500000</td>\n",
              "      <td>1803.000000</td>\n",
              "      <td>351.000000</td>\n",
              "      <td>14.341800</td>\n",
              "      <td>144.000000</td>\n",
              "      <td>7.043057</td>\n",
              "      <td>79.956600</td>\n",
              "      <td>7.047195</td>\n",
              "      <td>79.960225</td>\n",
              "      <td>366.465000</td>\n",
              "    </tr>\n",
              "    <tr>\n",
              "      <th>max</th>\n",
              "      <td>12795.030000</td>\n",
              "      <td>453872.000000</td>\n",
              "      <td>453650.000000</td>\n",
              "      <td>26198.601400</td>\n",
              "      <td>51288.000000</td>\n",
              "      <td>8.051010</td>\n",
              "      <td>81.009600</td>\n",
              "      <td>48.132000</td>\n",
              "      <td>81.009700</td>\n",
              "      <td>26945.990000</td>\n",
              "    </tr>\n",
              "  </tbody>\n",
              "</table>\n",
              "</div>"
            ],
            "text/plain": [
              "       additional_fare       duration  ...      drop_lon          fare\n",
              "count     16974.000000   16974.000000  ...  17176.000000  17039.000000\n",
              "mean         13.719651    1702.858077  ...     79.997534    312.655466\n",
              "std          98.975052    8120.160818  ...      0.359648    605.300565\n",
              "min           0.000000       0.000000  ...     45.307700      0.000000\n",
              "25%          10.500000     548.000000  ...     79.870100    125.515000\n",
              "50%          10.500000    1009.500000  ...     79.899100    211.180000\n",
              "75%          10.500000    1803.000000  ...     79.960225    366.465000\n",
              "max       12795.030000  453872.000000  ...     81.009700  26945.990000\n",
              "\n",
              "[8 rows x 10 columns]"
            ]
          },
          "metadata": {
            "tags": []
          },
          "execution_count": 15
        }
      ]
    },
    {
      "cell_type": "markdown",
      "metadata": {
        "id": "jbBAgQ4H4ghp",
        "colab_type": "text"
      },
      "source": [
        "# **Data visualization and Pre-processing**"
      ]
    },
    {
      "cell_type": "markdown",
      "metadata": {
        "id": "cyMldPKVM-u_",
        "colab_type": "text"
      },
      "source": [
        "**Functions**"
      ]
    },
    {
      "cell_type": "code",
      "metadata": {
        "id": "5xbmwnOLpBTe",
        "colab_type": "code",
        "colab": {}
      },
      "source": [
        "def preProcess(df, features):\n",
        "  generatePickupTimeData(df)\n",
        "  generateDropTimeData(df)\n",
        "  generatePickupTimestamp(df)\n",
        "  generateDropTimestamp(df)\n",
        "\n",
        "  df['distance'] = calculateDistanceDf(df['pick_lat'], df['pick_lon'], df['drop_lat'], df['drop_lon'])\n",
        "\n",
        "  features += ['pickup_year', 'pickup_month', 'pickup_day', 'pickup_hour', 'pickup_minute', 'pickup_weekday', 'pickup_weekofyear', 'drop_year', 'drop_month', 'drop_day', 'drop_hour', 'drop_minute', 'drop_weekday', 'drop_weekofyear', 'distance','pickup_timestamp','drop_timestamp']\n",
        "  Features = df[features]\n",
        "  Features = naImpute(Features,features)\n",
        "  return Features"
      ],
      "execution_count": 0,
      "outputs": []
    },
    {
      "cell_type": "code",
      "metadata": {
        "id": "PAx8KviOqbfH",
        "colab_type": "code",
        "colab": {}
      },
      "source": [
        "def getX(Features):\n",
        "    X= preprocessing.StandardScaler().fit(Features).transform(Features)\n",
        "    return X"
      ],
      "execution_count": 0,
      "outputs": []
    },
    {
      "cell_type": "markdown",
      "metadata": {
        "id": "2r3QLtqDMeWC",
        "colab_type": "text"
      },
      "source": [
        "**Pre-process Data**"
      ]
    },
    {
      "cell_type": "code",
      "metadata": {
        "id": "ZDG1bYgZqxzr",
        "colab_type": "code",
        "colab": {
          "base_uri": "https://localhost:8080/",
          "height": 224
        },
        "outputId": "7a9dd939-fd47-491d-c9ee-1e823f8017c1"
      },
      "source": [
        "features = ['additional_fare','duration', 'meter_waiting', 'meter_waiting_fare', 'meter_waiting_till_pickup', 'fare']\n",
        "features = preProcess(train_df, features)\n",
        "features.head()"
      ],
      "execution_count": 18,
      "outputs": [
        {
          "output_type": "execute_result",
          "data": {
            "text/html": [
              "<div>\n",
              "<style scoped>\n",
              "    .dataframe tbody tr th:only-of-type {\n",
              "        vertical-align: middle;\n",
              "    }\n",
              "\n",
              "    .dataframe tbody tr th {\n",
              "        vertical-align: top;\n",
              "    }\n",
              "\n",
              "    .dataframe thead th {\n",
              "        text-align: right;\n",
              "    }\n",
              "</style>\n",
              "<table border=\"1\" class=\"dataframe\">\n",
              "  <thead>\n",
              "    <tr style=\"text-align: right;\">\n",
              "      <th></th>\n",
              "      <th>additional_fare</th>\n",
              "      <th>duration</th>\n",
              "      <th>meter_waiting</th>\n",
              "      <th>meter_waiting_fare</th>\n",
              "      <th>meter_waiting_till_pickup</th>\n",
              "      <th>fare</th>\n",
              "      <th>pickup_year</th>\n",
              "      <th>pickup_month</th>\n",
              "      <th>pickup_day</th>\n",
              "      <th>pickup_hour</th>\n",
              "      <th>pickup_minute</th>\n",
              "      <th>pickup_weekday</th>\n",
              "      <th>pickup_weekofyear</th>\n",
              "      <th>drop_year</th>\n",
              "      <th>drop_month</th>\n",
              "      <th>drop_day</th>\n",
              "      <th>drop_hour</th>\n",
              "      <th>drop_minute</th>\n",
              "      <th>drop_weekday</th>\n",
              "      <th>drop_weekofyear</th>\n",
              "      <th>distance</th>\n",
              "      <th>pickup_timestamp</th>\n",
              "      <th>drop_timestamp</th>\n",
              "    </tr>\n",
              "  </thead>\n",
              "  <tbody>\n",
              "    <tr>\n",
              "      <th>0</th>\n",
              "      <td>10.500000</td>\n",
              "      <td>834.000000</td>\n",
              "      <td>56.000000</td>\n",
              "      <td>0.000000</td>\n",
              "      <td>64.000000</td>\n",
              "      <td>270.32</td>\n",
              "      <td>2019.0</td>\n",
              "      <td>11.0</td>\n",
              "      <td>1.0</td>\n",
              "      <td>0.0</td>\n",
              "      <td>20.0</td>\n",
              "      <td>4.0</td>\n",
              "      <td>4.0</td>\n",
              "      <td>2019.0</td>\n",
              "      <td>11.0</td>\n",
              "      <td>1.0</td>\n",
              "      <td>0.0</td>\n",
              "      <td>34.0</td>\n",
              "      <td>4.0</td>\n",
              "      <td>4.0</td>\n",
              "      <td>5.07</td>\n",
              "      <td>1.572568e+09</td>\n",
              "      <td>1.572568e+09</td>\n",
              "    </tr>\n",
              "    <tr>\n",
              "      <th>1</th>\n",
              "      <td>10.500000</td>\n",
              "      <td>791.000000</td>\n",
              "      <td>47.000000</td>\n",
              "      <td>0.000000</td>\n",
              "      <td>134.000000</td>\n",
              "      <td>197.85</td>\n",
              "      <td>2019.0</td>\n",
              "      <td>11.0</td>\n",
              "      <td>1.0</td>\n",
              "      <td>0.0</td>\n",
              "      <td>56.0</td>\n",
              "      <td>4.0</td>\n",
              "      <td>4.0</td>\n",
              "      <td>2019.0</td>\n",
              "      <td>11.0</td>\n",
              "      <td>1.0</td>\n",
              "      <td>1.0</td>\n",
              "      <td>9.0</td>\n",
              "      <td>4.0</td>\n",
              "      <td>4.0</td>\n",
              "      <td>3.15</td>\n",
              "      <td>1.572570e+09</td>\n",
              "      <td>1.572571e+09</td>\n",
              "    </tr>\n",
              "    <tr>\n",
              "      <th>2</th>\n",
              "      <td>10.500000</td>\n",
              "      <td>1087.000000</td>\n",
              "      <td>80.000000</td>\n",
              "      <td>0.000000</td>\n",
              "      <td>61.000000</td>\n",
              "      <td>301.64</td>\n",
              "      <td>2019.0</td>\n",
              "      <td>11.0</td>\n",
              "      <td>1.0</td>\n",
              "      <td>1.0</td>\n",
              "      <td>8.0</td>\n",
              "      <td>4.0</td>\n",
              "      <td>4.0</td>\n",
              "      <td>2019.0</td>\n",
              "      <td>11.0</td>\n",
              "      <td>1.0</td>\n",
              "      <td>1.0</td>\n",
              "      <td>26.0</td>\n",
              "      <td>4.0</td>\n",
              "      <td>4.0</td>\n",
              "      <td>6.30</td>\n",
              "      <td>1.572570e+09</td>\n",
              "      <td>1.572572e+09</td>\n",
              "    </tr>\n",
              "    <tr>\n",
              "      <th>3</th>\n",
              "      <td>10.500000</td>\n",
              "      <td>598.000000</td>\n",
              "      <td>271.000000</td>\n",
              "      <td>15.663800</td>\n",
              "      <td>68.000000</td>\n",
              "      <td>82.30</td>\n",
              "      <td>2019.0</td>\n",
              "      <td>11.0</td>\n",
              "      <td>1.0</td>\n",
              "      <td>2.0</td>\n",
              "      <td>27.0</td>\n",
              "      <td>4.0</td>\n",
              "      <td>4.0</td>\n",
              "      <td>2019.0</td>\n",
              "      <td>11.0</td>\n",
              "      <td>1.0</td>\n",
              "      <td>2.0</td>\n",
              "      <td>37.0</td>\n",
              "      <td>4.0</td>\n",
              "      <td>4.0</td>\n",
              "      <td>0.86</td>\n",
              "      <td>1.572575e+09</td>\n",
              "      <td>1.572576e+09</td>\n",
              "    </tr>\n",
              "    <tr>\n",
              "      <th>4</th>\n",
              "      <td>13.719651</td>\n",
              "      <td>1702.858077</td>\n",
              "      <td>629.074231</td>\n",
              "      <td>32.057666</td>\n",
              "      <td>112.466832</td>\n",
              "      <td>358.39</td>\n",
              "      <td>2019.0</td>\n",
              "      <td>11.0</td>\n",
              "      <td>1.0</td>\n",
              "      <td>3.0</td>\n",
              "      <td>34.0</td>\n",
              "      <td>4.0</td>\n",
              "      <td>4.0</td>\n",
              "      <td>2019.0</td>\n",
              "      <td>11.0</td>\n",
              "      <td>1.0</td>\n",
              "      <td>3.0</td>\n",
              "      <td>51.0</td>\n",
              "      <td>4.0</td>\n",
              "      <td>4.0</td>\n",
              "      <td>8.15</td>\n",
              "      <td>1.572579e+09</td>\n",
              "      <td>1.572580e+09</td>\n",
              "    </tr>\n",
              "  </tbody>\n",
              "</table>\n",
              "</div>"
            ],
            "text/plain": [
              "   additional_fare     duration  ...  pickup_timestamp  drop_timestamp\n",
              "0        10.500000   834.000000  ...      1.572568e+09    1.572568e+09\n",
              "1        10.500000   791.000000  ...      1.572570e+09    1.572571e+09\n",
              "2        10.500000  1087.000000  ...      1.572570e+09    1.572572e+09\n",
              "3        10.500000   598.000000  ...      1.572575e+09    1.572576e+09\n",
              "4        13.719651  1702.858077  ...      1.572579e+09    1.572580e+09\n",
              "\n",
              "[5 rows x 23 columns]"
            ]
          },
          "metadata": {
            "tags": []
          },
          "execution_count": 18
        }
      ]
    },
    {
      "cell_type": "code",
      "metadata": {
        "id": "80zQDjiYc6AU",
        "colab_type": "code",
        "colab": {
          "base_uri": "https://localhost:8080/",
          "height": 297
        },
        "outputId": "3497bb18-b9e1-4887-fdf5-6e372e82e8e6"
      },
      "source": [
        "ax = sns.countplot(features.pickup_weekday,label=\"pickup_weekday\")\n",
        "A, B, C, D, E, F, G = features.pickup_weekday.value_counts()\n",
        "print(A,B,C,D,E,F,G)"
      ],
      "execution_count": 19,
      "outputs": [
        {
          "output_type": "stream",
          "text": [
            "2754 2572 2523 2501 2450 2436 1940\n"
          ],
          "name": "stdout"
        },
        {
          "output_type": "display_data",
          "data": {
            "image/png": "[encoded data removed]",
            "text/plain": [
              "<Figure size 432x288 with 1 Axes>"
            ]
          },
          "metadata": {
            "tags": [],
            "needs_background": "light"
          }
        }
      ]
    },
    {
      "cell_type": "code",
      "metadata": {
        "id": "ipVcQxbMWe4J",
        "colab_type": "code",
        "colab": {
          "base_uri": "https://localhost:8080/",
          "height": 297
        },
        "outputId": "ae9e6de9-3d5e-46a7-8de2-90f40945de2a"
      },
      "source": [
        "ax = sns.countplot(features.drop_weekday,label=\"drop_weekday\")\n",
        "A, B, C, D, E, F, G = features.drop_weekday.value_counts()\n",
        "print(A,B,C,D,E,F,G)"
      ],
      "execution_count": 20,
      "outputs": [
        {
          "output_type": "stream",
          "text": [
            "2750 2570 2532 2496 2443 2440 1945\n"
          ],
          "name": "stdout"
        },
        {
          "output_type": "display_data",
          "data": {
            "image/png": "[encoded data removed]",
            "text/plain": [
              "<Figure size 432x288 with 1 Axes>"
            ]
          },
          "metadata": {
            "tags": [],
            "needs_background": "light"
          }
        }
      ]
    },
    {
      "cell_type": "code",
      "metadata": {
        "id": "mPq78IXkdB5m",
        "colab_type": "code",
        "colab": {
          "base_uri": "https://localhost:8080/",
          "height": 297
        },
        "outputId": "e56d07eb-6578-47a8-9e80-3c61cbfbcf00"
      },
      "source": [
        "ax = sns.countplot(features.drop_month,label=\"drop_month\")\n",
        "A, B, C = features.drop_month.value_counts()\n",
        "print('1=',A,',11=',B,',12=',C)"
      ],
      "execution_count": 21,
      "outputs": [
        {
          "output_type": "stream",
          "text": [
            "1= 5952 ,11= 5827 ,12= 5397\n"
          ],
          "name": "stdout"
        },
        {
          "output_type": "display_data",
          "data": {
            "image/png": "[encoded data removed]",
            "text/plain": [
              "<Figure size 432x288 with 1 Axes>"
            ]
          },
          "metadata": {
            "tags": [],
            "needs_background": "light"
          }
        }
      ]
    },
    {
      "cell_type": "code",
      "metadata": {
        "id": "IBjlsJCrN4K-",
        "colab_type": "code",
        "colab": {
          "base_uri": "https://localhost:8080/",
          "height": 34
        },
        "outputId": "f11577ab-7436-420d-f835-02553cacda63"
      },
      "source": [
        "y = train_df['label'].values\n",
        "y[0:5]"
      ],
      "execution_count": 22,
      "outputs": [
        {
          "output_type": "execute_result",
          "data": {
            "text/plain": [
              "array([1, 1, 1, 1, 1])"
            ]
          },
          "metadata": {
            "tags": []
          },
          "execution_count": 22
        }
      ]
    },
    {
      "cell_type": "markdown",
      "metadata": {
        "id": "p4pmLqpHLXPI",
        "colab_type": "text"
      },
      "source": [
        "**Normalize Data**"
      ]
    },
    {
      "cell_type": "code",
      "metadata": {
        "id": "YZG0mLAnrxbd",
        "colab_type": "code",
        "colab": {
          "base_uri": "https://localhost:8080/",
          "height": 697
        },
        "outputId": "69c467e0-722d-4004-84c3-f6c966f71fd5"
      },
      "source": [
        "X= getX(features)\n",
        "X[0:5]"
      ],
      "execution_count": 23,
      "outputs": [
        {
          "output_type": "execute_result",
          "data": {
            "text/plain": [
              "array([[-3.27238746e-02, -1.07638075e-01, -7.14960240e-02,\n",
              "        -6.92802181e-02, -1.10293576e-01, -7.02239052e-02,\n",
              "        -7.16359299e-01,  6.09098301e-01, -1.68354365e+00,\n",
              "        -2.86436081e+00, -5.47836750e-01,  5.61094962e-01,\n",
              "         5.61094962e-01, -7.16545398e-01,  6.09275746e-01,\n",
              "        -1.68364402e+00, -2.88449913e+00,  2.63958702e-01,\n",
              "         5.60211082e-01,  5.60211082e-01,  5.22623770e-03,\n",
              "        -1.75706685e+00, -1.75755182e+00],\n",
              "       [-3.27238746e-02, -1.12965110e-01, -7.26188527e-02,\n",
              "        -6.92802181e-02,  4.90019681e-02, -1.90433433e-01,\n",
              "        -7.16359299e-01,  6.09098301e-01, -1.68354365e+00,\n",
              "        -2.86436081e+00,  1.53456998e+00,  5.61094962e-01,\n",
              "         5.61094962e-01, -7.16545398e-01,  6.09275746e-01,\n",
              "        -1.68364402e+00, -2.67986929e+00, -1.17456128e+00,\n",
              "         5.60211082e-01,  5.60211082e-01, -3.94734695e-02,\n",
              "        -1.75612359e+00, -1.75663471e+00],\n",
              "       [-3.27238746e-02, -7.62952888e-02, -6.85018140e-02,\n",
              "        -6.92802181e-02, -1.17120528e-01, -1.82718918e-02,\n",
              "        -7.16359299e-01,  6.09098301e-01, -1.68354365e+00,\n",
              "        -2.65706185e+00, -1.24197233e+00,  5.61094962e-01,\n",
              "         5.61094962e-01, -7.16545398e-01,  6.09275746e-01,\n",
              "        -1.68364402e+00, -2.67986929e+00, -1.96367693e-01,\n",
              "         5.60211082e-01,  5.60211082e-01,  3.38619876e-02,\n",
              "        -1.75580917e+00, -1.75618926e+00],\n",
              "       [-3.27238746e-02, -1.36874824e-01, -4.46728930e-02,\n",
              "        -3.54289860e-02, -1.01190973e-01, -3.82101860e-01,\n",
              "        -7.16359299e-01,  6.09098301e-01, -1.68354365e+00,\n",
              "        -2.44976290e+00, -1.42924331e-01,  5.61094962e-01,\n",
              "         5.61094962e-01, -7.16545398e-01,  6.09275746e-01,\n",
              "        -1.68364402e+00, -2.47523946e+00,  4.36581100e-01,\n",
              "         5.60211082e-01,  5.60211082e-01, -9.27871827e-02,\n",
              "        -1.75373925e+00, -1.75432884e+00],\n",
              "       [ 1.80545298e-17,  0.00000000e+00, -1.41834276e-17,\n",
              "         0.00000000e+00,  3.23389405e-17,  7.58621043e-02,\n",
              "        -7.16359299e-01,  6.09098301e-01, -1.68354365e+00,\n",
              "        -2.24246394e+00,  2.61988088e-01,  5.61094962e-01,\n",
              "         5.61094962e-01, -7.16545398e-01,  6.09275746e-01,\n",
              "        -1.68364402e+00, -2.27060962e+00,  1.24215229e+00,\n",
              "         5.60211082e-01,  5.60211082e-01,  7.69320179e-02,\n",
              "        -1.75198374e+00, -1.75238980e+00]])"
            ]
          },
          "metadata": {
            "tags": []
          },
          "execution_count": 23
        }
      ]
    },
    {
      "cell_type": "markdown",
      "metadata": {
        "id": "pWc9-mpAKBQY",
        "colab_type": "text"
      },
      "source": [
        "# **K Nearest Neighbor(KNN)**"
      ]
    },
    {
      "cell_type": "code",
      "metadata": {
        "id": "vICMwqg7sj7j",
        "colab_type": "code",
        "colab": {
          "base_uri": "https://localhost:8080/",
          "height": 34
        },
        "outputId": "0da96fde-3942-457e-d965-40321dfdf122"
      },
      "source": [
        "from sklearn.metrics import jaccard_similarity_score\n",
        "from sklearn.metrics import f1_score\n",
        "from sklearn.metrics import log_loss\n",
        "from sklearn.model_selection import cross_val_score\n",
        "from sklearn.neighbors import KNeighborsClassifier\n",
        "\n",
        "X_train, y_train=X,y\n",
        "\n",
        "bestScore=0.0\n",
        "accList=[]\n",
        "for k in range(3,15):\n",
        "    clf_knn = KNeighborsClassifier(n_neighbors=k,algorithm='auto')\n",
        "    \n",
        "    scores = cross_val_score(clf_knn, X_train, y_train, cv=10)\n",
        "    score=scores.mean()\n",
        "    accList.append(score)\n",
        "    \n",
        "    if score > bestScore:\n",
        "        bestScore=score\n",
        "        best_clf=clf_knn\n",
        "        bestK=k\n",
        "print(\"Best K is :\",bestK,\"| Cross validation Accuracy :\",bestScore)\n",
        "clf_knn=best_clf"
      ],
      "execution_count": 24,
      "outputs": [
        {
          "output_type": "stream",
          "text": [
            "Best K is : 13 | Cross validation Accuracy : 0.8233740795157377\n"
          ],
          "name": "stdout"
        }
      ]
    },
    {
      "cell_type": "code",
      "metadata": {
        "id": "iZjV7TtqspXB",
        "colab_type": "code",
        "colab": {}
      },
      "source": [
        "clf_knn.fit(X_train,y_train)\n",
        "y_pred=clf_knn.predict(X_train)\n",
        "trainScores={}"
      ],
      "execution_count": 0,
      "outputs": []
    },
    {
      "cell_type": "code",
      "metadata": {
        "id": "3pGswOcissZX",
        "colab_type": "code",
        "colab": {
          "base_uri": "https://localhost:8080/",
          "height": 34
        },
        "outputId": "4519bd89-c44c-4ee6-fbfb-0e27b12b094d"
      },
      "source": [
        "trainScores['KNN-jaccard']=jaccard_similarity_score(y_train, y_pred)\n",
        "trainScores['KNN-f1-score']=f1_score(y_train, y_pred, average='macro')\n",
        "trainScores"
      ],
      "execution_count": 26,
      "outputs": [
        {
          "output_type": "execute_result",
          "data": {
            "text/plain": [
              "{'KNN-f1-score': 0.508012998291173, 'KNN-jaccard': 0.9047508150908244}"
            ]
          },
          "metadata": {
            "tags": []
          },
          "execution_count": 26
        }
      ]
    },
    {
      "cell_type": "code",
      "metadata": {
        "id": "mEcvCm__s1te",
        "colab_type": "code",
        "colab": {
          "base_uri": "https://localhost:8080/",
          "height": 279
        },
        "outputId": "753f1d90-6295-448a-9426-21a0db53ee32"
      },
      "source": [
        "plt.plot(range(3,15),accList)\n",
        "plt.xlabel('K')\n",
        "plt.ylabel('CV Accuracy')\n",
        "plt.show()"
      ],
      "execution_count": 27,
      "outputs": [
        {
          "output_type": "display_data",
          "data": {
            "image/png": "[encoded data removed]",
            "text/plain": [
              "<Figure size 432x288 with 1 Axes>"
            ]
          },
          "metadata": {
            "tags": [],
            "needs_background": "light"
          }
        }
      ]
    },
    {
      "cell_type": "markdown",
      "metadata": {
        "id": "h9es0qByT8-l",
        "colab_type": "text"
      },
      "source": [
        "# **Logistic Regression**"
      ]
    },
    {
      "cell_type": "code",
      "metadata": {
        "id": "5ftctRb-UC3J",
        "colab_type": "code",
        "colab": {
          "base_uri": "https://localhost:8080/",
          "height": 0
        },
        "outputId": "a9051afd-1d26-48aa-8975-bd31018650b7"
      },
      "source": [
        "from sklearn.linear_model import LogisticRegression\n",
        "\n",
        "clf_log = LogisticRegression(random_state=0, solver='lbfgs',\n",
        "                         multi_class='multinomial')\n",
        "clf_log.fit(X_train, y_train)\n",
        "\n",
        "y_pred=clf_log.predict(X_train)\n",
        "y_proba=clf_log.predict_proba(X_train)\n",
        "testy=y.astype(float)"
      ],
      "execution_count": 28,
      "outputs": [
        {
          "output_type": "stream",
          "text": [
            "/usr/local/lib/python3.6/dist-packages/sklearn/linear_model/_logistic.py:940: ConvergenceWarning: lbfgs failed to converge (status=1):\n",
            "STOP: TOTAL NO. of ITERATIONS REACHED LIMIT.\n",
            "\n",
            "Increase the number of iterations (max_iter) or scale the data as shown in:\n",
            "    https://scikit-learn.org/stable/modules/preprocessing.html\n",
            "Please also refer to the documentation for alternative solver options:\n",
            "    https://scikit-learn.org/stable/modules/linear_model.html#logistic-regression\n",
            "  extra_warning_msg=_LOGISTIC_SOLVER_CONVERGENCE_MSG)\n"
          ],
          "name": "stderr"
        }
      ]
    },
    {
      "cell_type": "code",
      "metadata": {
        "id": "BGz4bmd5Uabn",
        "colab_type": "code",
        "colab": {}
      },
      "source": [
        "trainScores['LogReg-jaccard']=jaccard_similarity_score(y_train, y_pred)\n",
        "trainScores['LogReg-f1-score']=f1_score(y_train, y_pred, average='macro')  \n",
        "trainScores['LogReg-logLoss']=log_loss(y_train, y_proba)"
      ],
      "execution_count": 0,
      "outputs": []
    },
    {
      "cell_type": "code",
      "metadata": {
        "id": "W4QOhp-gtJas",
        "colab_type": "code",
        "colab": {
          "base_uri": "https://localhost:8080/",
          "height": 0
        },
        "outputId": "4315387f-bd9c-48fe-ba0f-407724928f9c"
      },
      "source": [
        "trainScores"
      ],
      "execution_count": 30,
      "outputs": [
        {
          "output_type": "execute_result",
          "data": {
            "text/plain": [
              "{'KNN-f1-score': 0.508012998291173,\n",
              " 'KNN-jaccard': 0.9047508150908244,\n",
              " 'LogReg-f1-score': 0.5834926812851827,\n",
              " 'LogReg-jaccard': 0.911096879366558,\n",
              " 'LogReg-logLoss': 0.27891634124329034}"
            ]
          },
          "metadata": {
            "tags": []
          },
          "execution_count": 30
        }
      ]
    },
    {
      "cell_type": "markdown",
      "metadata": {
        "id": "t4SiYWA3YWBq",
        "colab_type": "text"
      },
      "source": [
        "# **Random Forest**"
      ]
    },
    {
      "cell_type": "code",
      "metadata": {
        "id": "YIVbb5cEYiaK",
        "colab_type": "code",
        "colab": {
          "base_uri": "https://localhost:8080/",
          "height": 0
        },
        "outputId": "dc0660aa-2e2a-46da-93f4-d5ad9b0d140c"
      },
      "source": [
        "from sklearn.ensemble import RandomForestClassifier\n",
        "\n",
        "clf_rf=RandomForestClassifier(max_depth = 9, n_estimators=100, random_state = 42)\n",
        "clf_rf.fit(X_train, y_train)"
      ],
      "execution_count": 31,
      "outputs": [
        {
          "output_type": "execute_result",
          "data": {
            "text/plain": [
              "RandomForestClassifier(bootstrap=True, ccp_alpha=0.0, class_weight=None,\n",
              "                       criterion='gini', max_depth=9, max_features='auto',\n",
              "                       max_leaf_nodes=None, max_samples=None,\n",
              "                       min_impurity_decrease=0.0, min_impurity_split=None,\n",
              "                       min_samples_leaf=1, min_samples_split=2,\n",
              "                       min_weight_fraction_leaf=0.0, n_estimators=100,\n",
              "                       n_jobs=None, oob_score=False, random_state=42, verbose=0,\n",
              "                       warm_start=False)"
            ]
          },
          "metadata": {
            "tags": []
          },
          "execution_count": 31
        }
      ]
    },
    {
      "cell_type": "code",
      "metadata": {
        "id": "cS1uxsU5ZHPu",
        "colab_type": "code",
        "colab": {}
      },
      "source": [
        "y_train_pred = clf_rf.predict_proba(X_train)[:,1]\n",
        "#y_valid_pred = clf_rf.predict_proba(X_valid)[:,1]"
      ],
      "execution_count": 0,
      "outputs": []
    },
    {
      "cell_type": "code",
      "metadata": {
        "id": "JyXC2rMYo9O0",
        "colab_type": "code",
        "colab": {}
      },
      "source": [
        "from sklearn.metrics import roc_auc_score, accuracy_score, precision_score, recall_score\n",
        "\n",
        "def calc_specificity(y_actual, y_pred, thresh):\n",
        " # calculates specificity\n",
        " return sum((y_pred < thresh) & (y_actual == 0)) /sum(y_actual ==0)\n",
        "def print_report(y_actual, y_pred, thresh):\n",
        " \n",
        " auc = roc_auc_score(y_actual, y_pred)\n",
        " accuracy = accuracy_score(y_actual, (y_pred > thresh))\n",
        " recall = recall_score(y_actual, (y_pred > thresh))\n",
        " precision = precision_score(y_actual, (y_pred > thresh))\n",
        " specificity = calc_specificity(y_actual, y_pred, thresh)\n",
        " print('AUC:%.3f'%auc)\n",
        " print('accuracy:%.3f'%accuracy)\n",
        " print('recall:%.3f'%recall)\n",
        " print('precision:%.3f'%precision)\n",
        " print('specificity:%.3f'%specificity)\n",
        " print('prevalence:%.3f'%calc_prevalence(y_actual))\n",
        " print(' ')\n",
        " return auc, accuracy, recall, precision, specificity"
      ],
      "execution_count": 0,
      "outputs": []
    },
    {
      "cell_type": "code",
      "metadata": {
        "id": "jXZoACi1pL9X",
        "colab_type": "code",
        "colab": {
          "base_uri": "https://localhost:8080/",
          "height": 0
        },
        "outputId": "8134b5f7-e8c2-48dc-f1e7-32d77c2b48c9"
      },
      "source": [
        "print_report(y_train, y_train_pred, 0.201)"
      ],
      "execution_count": 34,
      "outputs": [
        {
          "output_type": "stream",
          "text": [
            "AUC:0.941\n",
            "accuracy:0.913\n",
            "recall:1.000\n",
            "precision:0.912\n",
            "specificity:0.112\n",
            "prevalence:0.902\n",
            " \n"
          ],
          "name": "stdout"
        },
        {
          "output_type": "execute_result",
          "data": {
            "text/plain": [
              "(0.9414648927260412,\n",
              " 0.9131346064275734,\n",
              " 1.0,\n",
              " 0.9121681285689056,\n",
              " 0.1124330755502677)"
            ]
          },
          "metadata": {
            "tags": []
          },
          "execution_count": 34
        }
      ]
    },
    {
      "cell_type": "markdown",
      "metadata": {
        "id": "ivZj7ANCViqz",
        "colab_type": "text"
      },
      "source": [
        "# **Model Evaluation using Test set**"
      ]
    },
    {
      "cell_type": "code",
      "metadata": {
        "id": "f8BewghzVnEW",
        "colab_type": "code",
        "colab": {}
      },
      "source": [
        "from sklearn.metrics import jaccard_similarity_score\n",
        "from sklearn.metrics import f1_score\n",
        "from sklearn.metrics import log_loss"
      ],
      "execution_count": 0,
      "outputs": []
    },
    {
      "cell_type": "code",
      "metadata": {
        "id": "uhg3uAsSeRCz",
        "colab_type": "code",
        "colab": {}
      },
      "source": [
        "testScores={}"
      ],
      "execution_count": 0,
      "outputs": []
    },
    {
      "cell_type": "code",
      "metadata": {
        "id": "9FFhbbMGW8cI",
        "colab_type": "code",
        "colab": {
          "base_uri": "https://localhost:8080/",
          "height": 198
        },
        "outputId": "27069232-edd5-41c5-dc1d-73c01cf89bf0"
      },
      "source": [
        "knn_pred=clf_knn.predict(X_test)\n",
        "testScores['KNN-jaccard']=jaccard_similarity_score(y_test, knn_pred)\n",
        "testScores['KNN-f1-score']=f1_score(y_test, knn_pred, average='weighted')"
      ],
      "execution_count": 37,
      "outputs": [
        {
          "output_type": "error",
          "ename": "NameError",
          "evalue": "ignored",
          "traceback": [
            "\u001b[0;31m---------------------------------------------------------------------------\u001b[0m",
            "\u001b[0;31mNameError\u001b[0m                                 Traceback (most recent call last)",
            "\u001b[0;32m<ipython-input-37-1499c8a842f5>\u001b[0m in \u001b[0;36m<module>\u001b[0;34m()\u001b[0m\n\u001b[0;32m----> 1\u001b[0;31m \u001b[0mknn_pred\u001b[0m\u001b[0;34m=\u001b[0m\u001b[0mclf_knn\u001b[0m\u001b[0;34m.\u001b[0m\u001b[0mpredict\u001b[0m\u001b[0;34m(\u001b[0m\u001b[0mX_test\u001b[0m\u001b[0;34m)\u001b[0m\u001b[0;34m\u001b[0m\u001b[0;34m\u001b[0m\u001b[0m\n\u001b[0m\u001b[1;32m      2\u001b[0m \u001b[0mtestScores\u001b[0m\u001b[0;34m[\u001b[0m\u001b[0;34m'KNN-jaccard'\u001b[0m\u001b[0;34m]\u001b[0m\u001b[0;34m=\u001b[0m\u001b[0mjaccard_similarity_score\u001b[0m\u001b[0;34m(\u001b[0m\u001b[0my_test\u001b[0m\u001b[0;34m,\u001b[0m \u001b[0mknn_pred\u001b[0m\u001b[0;34m)\u001b[0m\u001b[0;34m\u001b[0m\u001b[0;34m\u001b[0m\u001b[0m\n\u001b[1;32m      3\u001b[0m \u001b[0mtestScores\u001b[0m\u001b[0;34m[\u001b[0m\u001b[0;34m'KNN-f1-score'\u001b[0m\u001b[0;34m]\u001b[0m\u001b[0;34m=\u001b[0m\u001b[0mf1_score\u001b[0m\u001b[0;34m(\u001b[0m\u001b[0my_test\u001b[0m\u001b[0;34m,\u001b[0m \u001b[0mknn_pred\u001b[0m\u001b[0;34m,\u001b[0m \u001b[0maverage\u001b[0m\u001b[0;34m=\u001b[0m\u001b[0;34m'weighted'\u001b[0m\u001b[0;34m)\u001b[0m\u001b[0;34m\u001b[0m\u001b[0;34m\u001b[0m\u001b[0m\n",
            "\u001b[0;31mNameError\u001b[0m: name 'X_test' is not defined"
          ]
        }
      ]
    },
    {
      "cell_type": "code",
      "metadata": {
        "id": "g51a2qT7X5RK",
        "colab_type": "code",
        "colab": {}
      },
      "source": [
        "log_pred=clf_log.predict(X_test)\n",
        "proba=clf_log.predict_proba(X_test)\n",
        "testScores['LogReg-jaccard']=jaccard_similarity_score(y_test, log_pred)\n",
        "testScores['LogReg-f1-score']=f1_score(y_test, log_pred, average='macro')  \n",
        "testScores['LogReg-logLoss']=log_loss(y_test, proba)"
      ],
      "execution_count": 0,
      "outputs": []
    },
    {
      "cell_type": "code",
      "metadata": {
        "id": "OXGjvga5XsBt",
        "colab_type": "code",
        "colab": {}
      },
      "source": [
        "testScores"
      ],
      "execution_count": 0,
      "outputs": []
    },
    {
      "cell_type": "markdown",
      "metadata": {
        "id": "EbZvVJEXYvyA",
        "colab_type": "text"
      },
      "source": [
        "# **Prediction**"
      ]
    },
    {
      "cell_type": "code",
      "metadata": {
        "id": "jY7oGS2cuSmQ",
        "colab_type": "code",
        "colab": {}
      },
      "source": [
        "df_test = pd.read_csv('/content/drive/My Drive/Colab Notebooks/Fare-Classification/Data/test.csv')\n",
        "features_test = ['additional_fare','duration', 'meter_waiting', 'meter_waiting_fare', 'meter_waiting_till_pickup', 'fare']\n",
        "df_test.head()"
      ],
      "execution_count": 0,
      "outputs": []
    },
    {
      "cell_type": "code",
      "metadata": {
        "id": "Hj7qFjhOuqR0",
        "colab_type": "code",
        "colab": {}
      },
      "source": [
        "features_for_test = preProcess(df_test, features_test)\n",
        "X_pred = getX(features_for_test)\n",
        "features_for_test.head()"
      ],
      "execution_count": 0,
      "outputs": []
    },
    {
      "cell_type": "code",
      "metadata": {
        "id": "hRA_lJ4stP7H",
        "colab_type": "code",
        "colab": {}
      },
      "source": [
        "y_pred_for_test = clf_rf.predict(X_pred)"
      ],
      "execution_count": 0,
      "outputs": []
    },
    {
      "cell_type": "code",
      "metadata": {
        "id": "Snc07kO8tWte",
        "colab_type": "code",
        "colab": {}
      },
      "source": [
        "y_pred_for_test"
      ],
      "execution_count": 0,
      "outputs": []
    },
    {
      "cell_type": "code",
      "metadata": {
        "id": "iKh4gVWDu6a_",
        "colab_type": "code",
        "colab": {}
      },
      "source": [
        "import csv\n",
        "\n",
        "with open('/content/drive/My Drive/Colab Notebooks/Fare-Classification/Data/RF.csv', mode='w') as submission_file:\n",
        "    submission_writer = csv.writer(submission_file, delimiter=',', quotechar='\"', quoting=csv.QUOTE_MINIMAL)\n",
        "    submission_writer.writerow(['tripid','prediction'])\n",
        "    for i in range(len(y_pred_for_test)):\n",
        "      submission_writer.writerow([df_test['tripid'][i],y_pred_for_test[i]])"
      ],
      "execution_count": 0,
      "outputs": []
    }
  ]
}
